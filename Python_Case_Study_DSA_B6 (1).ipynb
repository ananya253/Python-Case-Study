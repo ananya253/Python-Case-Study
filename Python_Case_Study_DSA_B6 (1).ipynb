{
  "nbformat": 4,
  "nbformat_minor": 0,
  "metadata": {
    "colab": {
      "provenance": []
    },
    "kernelspec": {
      "name": "python3",
      "display_name": "Python 3"
    },
    "language_info": {
      "name": "python"
    }
  },
  "cells": [
    {
      "cell_type": "markdown",
      "source": [
        "# Answer the following questions using only builtin Python datatypes and functions. Do not use Numpy or Scipy (i.e. No library imports allowed)"
      ],
      "metadata": {
        "id": "zVV_KMSIUG-A"
      }
    },
    {
      "cell_type": "markdown",
      "source": [
        "# Q1. Write a function that return the range (maximum and minimun) of a given list of numbers"
      ],
      "metadata": {
        "id": "uZnK7VgWV5SI"
      }
    },
    {
      "cell_type": "code",
      "source": [
        "def calculate_range(num):\n",
        "  print(\"Maximum: \",max(num))\n",
        "  print(\"Minimum: \",min(num))\n",
        "calculate_range([4,2,8,0,9])"
      ],
      "metadata": {
        "id": "vuAbJQcOWAM7",
        "colab": {
          "base_uri": "https://localhost:8080/"
        },
        "outputId": "5d30ae62-1f3c-4742-cea3-61c8d6c8a76a"
      },
      "execution_count": 21,
      "outputs": [
        {
          "output_type": "stream",
          "name": "stdout",
          "text": [
            "Maximum:  9\n",
            "Minimum:  0\n"
          ]
        }
      ]
    },
    {
      "cell_type": "markdown",
      "source": [
        "## Q2. Write function that returns mean value of a list of numbers"
      ],
      "metadata": {
        "id": "Y5_v5a8_U1O-"
      }
    },
    {
      "cell_type": "code",
      "source": [
        "def mean():\n",
        "  l = [1,2,3,4,5]\n",
        "  n = len(l)\n",
        "  print(\"Mean: \",sum(l)//n)\n",
        "mean()"
      ],
      "metadata": {
        "id": "RajjEyacU7Sc",
        "colab": {
          "base_uri": "https://localhost:8080/"
        },
        "outputId": "a0d6fc1d-dbbb-4204-d371-7f4269a2efe2"
      },
      "execution_count": 3,
      "outputs": [
        {
          "output_type": "stream",
          "name": "stdout",
          "text": [
            "Mean:  3\n"
          ]
        }
      ]
    },
    {
      "cell_type": "markdown",
      "source": [
        "# Q3. Write a function that returns the median value of a list of numbers"
      ],
      "metadata": {
        "id": "OpeRxoEoVTIP"
      }
    },
    {
      "cell_type": "code",
      "source": [
        "def median():\n",
        "  l = [10,20,30,40,50]\n",
        "  l = sorted(l)\n",
        "  print(l)\n",
        "  n = len(l)\n",
        "  if n%2!=0:\n",
        "    print(\"Median: \",l[((n+1)//2)-1])\n",
        "  else:\n",
        "    print(\"Median: \",l[(n//2)-1],l[((n//2)+1)-1])\n",
        "\n",
        "median()"
      ],
      "metadata": {
        "id": "u1CUy0UOVaQi",
        "colab": {
          "base_uri": "https://localhost:8080/"
        },
        "outputId": "1397cf25-45e7-40ea-8d3a-548245b03418"
      },
      "execution_count": 7,
      "outputs": [
        {
          "output_type": "stream",
          "name": "stdout",
          "text": [
            "[10, 20, 30, 40, 50]\n",
            "Median:  30\n"
          ]
        }
      ]
    },
    {
      "cell_type": "markdown",
      "source": [
        "## Q4. Write a function to return the mod of a list of numbers, if no mod exists, it should return None. If more than one mod exist, return the mod values as list"
      ],
      "metadata": {
        "id": "2EMOG7AZSqVn"
      }
    },
    {
      "cell_type": "code",
      "execution_count": null,
      "metadata": {
        "id": "qnMm2dhhSk3-"
      },
      "outputs": [],
      "source": []
    },
    {
      "cell_type": "markdown",
      "source": [
        "## Q5. Write function to compute a given percentile value (e.g. 90th percentile) of a list of numbers"
      ],
      "metadata": {
        "id": "LcqWwqtgTCiL"
      }
    },
    {
      "cell_type": "code",
      "source": [
        "def percentile():\n",
        "  l = [10,20,30,40,50]\n",
        "  l = sorted(l)\n",
        "  print(l)\n",
        "  n = len(l)\n",
        "  p = int(input(\"Enter percentile:\"))\n",
        "  p_index = int((p/100)*(n+1))\n",
        "  print(\"Percentile: \", l[p_index-1])\n",
        "percentile()"
      ],
      "metadata": {
        "id": "Sn307h0TTb2b",
        "colab": {
          "base_uri": "https://localhost:8080/"
        },
        "outputId": "204fce81-362f-4a6f-a172-857ed118ab29"
      },
      "execution_count": 85,
      "outputs": [
        {
          "output_type": "stream",
          "name": "stdout",
          "text": [
            "[10, 20, 30, 40, 50]\n",
            "Enter percentile:50\n",
            "Percentile:  30\n"
          ]
        }
      ]
    },
    {
      "cell_type": "markdown",
      "source": [
        "# Q6. Write a function that returns the lower bound of a list of numbers"
      ],
      "metadata": {
        "id": "N-TYHkDcWOfS"
      }
    },
    {
      "cell_type": "code",
      "source": [
        "def lower_bound():\n",
        " l = [2, 12, 5, 7, 9]\n",
        " l = sorted(l)\n",
        " print(l)\n",
        " Q1=int((25/100) * (len(l) + 1))\n",
        " Q3=int((75/100) * (len(l) + 1))\n",
        "\n",
        " print(\"Q1: \",l[Q1-1])\n",
        " print(\"Q3: \",l[Q3-1])\n",
        " IQR = l[Q3]-l[Q1]\n",
        " print(\"IQR: \",IQR)\n",
        "\n",
        " lower_bound = (Q1 - (1.5 * IQR))\n",
        " print(\"Lower bound is: \",lower_bound)\n",
        "lower_bound()"
      ],
      "metadata": {
        "id": "Y-RKPdKuW5nx",
        "colab": {
          "base_uri": "https://localhost:8080/"
        },
        "outputId": "b6bf17d5-2c31-468b-e8e1-4629e9a37991"
      },
      "execution_count": 104,
      "outputs": [
        {
          "output_type": "stream",
          "name": "stdout",
          "text": [
            "[2, 5, 7, 9, 12]\n",
            "Q1:  2\n",
            "Q3:  9\n",
            "IQR:  7\n",
            "Lower bound is:  -9.5\n"
          ]
        }
      ]
    },
    {
      "cell_type": "markdown",
      "source": [
        "## Q7. Write function to return any outliers from a given list of numbers, if no outliers present it should return None"
      ],
      "metadata": {
        "id": "5aHfaI_jThpX"
      }
    },
    {
      "cell_type": "code",
      "source": [
        "def outliers():\n",
        " l = [1,12,4,7,8,3]\n",
        " l = sorted(l)\n",
        " Q1 = int((25/100)*(len(l)+1))\n",
        " Q3 = int((75/100)*(len(l)+1))\n",
        "\n",
        " print(\"Q1: \",l[Q1-1])\n",
        " print(\"Q3: \",l[Q3-1])\n",
        " print(\"IQR: \",l[Q3-1]-l[Q1-1])\n",
        "\n",
        " lower= (Q1 - 1.5 * (Q3- Q1))\n",
        " upper= (Q3 + 1.5 * (Q3 - Q1))\n",
        "\n",
        " print(\"Lower bound: \",lower)\n",
        " print(\"Upper bound: \",upper)\n",
        "\n",
        " for i in l:\n",
        "  if (i < lower or i > upper):\n",
        "   print(\"Outliers are: \", i)\n",
        "  else:\n",
        "   None\n",
        "outliers()"
      ],
      "metadata": {
        "id": "gG6-qzT7T0Si",
        "colab": {
          "base_uri": "https://localhost:8080/"
        },
        "outputId": "2f58494f-08b9-4fd0-e019-7a802114b3c1"
      },
      "execution_count": 101,
      "outputs": [
        {
          "output_type": "stream",
          "name": "stdout",
          "text": [
            "Q1:  1\n",
            "Q3:  8\n",
            "IQR:  7\n",
            "Lower bound:  -5.0\n",
            "Upper bound:  11.0\n",
            "Outliers are:  12\n"
          ]
        }
      ]
    },
    {
      "cell_type": "markdown",
      "source": [
        "##Q8. Write a function to return standard deviation of a list of numbers"
      ],
      "metadata": {
        "id": "jI9t-tcDT5EK"
      }
    },
    {
      "cell_type": "code",
      "source": [
        "def standard_deviation():\n",
        "  l = [10,8,2,3,5,6]\n",
        "  n = len(l)\n",
        "  mean = sum(l)//n\n",
        "  var = sum((x-mean)**2 for x in l)//n\n",
        "  print(\"Variance: %.2f\"%var)\n",
        "  std = var**0.5\n",
        "  print(\"Standard Deviation: %.2f\"%std)\n",
        "standard_deviation()\n"
      ],
      "metadata": {
        "id": "MMU_cMlLUFxJ",
        "colab": {
          "base_uri": "https://localhost:8080/"
        },
        "outputId": "a4b6ba9b-1121-494d-b87f-e3cb50e6a6b0"
      },
      "execution_count": 52,
      "outputs": [
        {
          "output_type": "stream",
          "name": "stdout",
          "text": [
            "Variance: 8.00\n",
            "Standard Deviation: 2.83\n"
          ]
        }
      ]
    },
    {
      "cell_type": "markdown",
      "source": [
        "## Q9. Write function to compute and return Z-score values of a list of numbers\n",
        "\n",
        "---\n",
        "\n"
      ],
      "metadata": {
        "id": "LufmQDJPURkM"
      }
    },
    {
      "cell_type": "code",
      "source": [
        "def z_score():\n",
        "  l = [2,3,6,8,9]\n",
        "  n = len(l)\n",
        "  mean = sum(l)/n\n",
        "  print(\"Mean: \",mean)\n",
        "  var = sum((x-mean)**2 for x in l)/n\n",
        "  print(\"Variance: %.2f\"%var)\n",
        "  std = var**0.5\n",
        "  for i in l:\n",
        "    z = (i-mean)/std\n",
        "    print(\"%.2f\"%z)\n",
        "z_score()"
      ],
      "metadata": {
        "id": "ml2qpSpFUYxV",
        "colab": {
          "base_uri": "https://localhost:8080/"
        },
        "outputId": "95319257-5969-4c35-b7d7-b1f74f659ae6"
      },
      "execution_count": 90,
      "outputs": [
        {
          "output_type": "stream",
          "name": "stdout",
          "text": [
            "Mean:  5.6\n",
            "Variance: 7.44\n",
            "-1.32\n",
            "-0.95\n",
            "0.15\n",
            "0.88\n",
            "1.25\n"
          ]
        }
      ]
    },
    {
      "cell_type": "markdown",
      "source": [
        "## Q10. Write a function to compute and return the Pearson correlation coefficient value of two list of numbers"
      ],
      "metadata": {
        "id": "YQSNHIfxUb6s"
      }
    },
    {
      "cell_type": "code",
      "source": [
        "def pearson_correlation():\n",
        "  x = [5,8,7,2,3]\n",
        "  y = [2,3,4,4,7]\n",
        "  n = len(x)\n",
        "  mean_x = sum(x)//n\n",
        "  mean_y = sum(y)//n\n",
        "\n",
        "  for i in range(n):\n",
        "   var = sum((x[i]-mean_x) * (y[i]-mean_y))\n",
        "  print(var)\n",
        "pearson_correlation()"
      ],
      "metadata": {
        "id": "1YGqr3T6Uk6H"
      },
      "execution_count": null,
      "outputs": []
    }
  ]
}